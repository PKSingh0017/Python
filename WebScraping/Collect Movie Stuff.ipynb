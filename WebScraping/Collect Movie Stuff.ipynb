{
 "cells": [
  {
   "cell_type": "markdown",
   "metadata": {},
   "source": [
    "# Scraping movie posters "
   ]
  },
  {
   "cell_type": "markdown",
   "metadata": {},
   "source": [
    "Importing required libraries"
   ]
  },
  {
   "cell_type": "code",
   "execution_count": 50,
   "metadata": {},
   "outputs": [],
   "source": [
    "from bs4 import BeautifulSoup\n",
    "import requests\n",
    "import os\n",
    "from zipfile import ZipFile"
   ]
  },
  {
   "cell_type": "markdown",
   "metadata": {},
   "source": [
    "Get the page from the url"
   ]
  },
  {
   "cell_type": "code",
   "execution_count": 3,
   "metadata": {},
   "outputs": [],
   "source": [
    "def request_webpage(url):\n",
    "    res = requests.get(url)\n",
    "    try:\n",
    "        res.raise_for_status()\n",
    "    except Exception as exc:\n",
    "        print(\"Problem with the request: %s\" % exc)\n",
    "    return res"
   ]
  },
  {
   "cell_type": "code",
   "execution_count": 4,
   "metadata": {},
   "outputs": [],
   "source": [
    "my_page = request_webpage(\"https://www.imdb.com/movies-coming-soon/\")"
   ]
  },
  {
   "cell_type": "code",
   "execution_count": 9,
   "metadata": {},
   "outputs": [],
   "source": [
    "my_soup = BeautifulSoup(my_page.text, 'lxml')"
   ]
  },
  {
   "cell_type": "markdown",
   "metadata": {},
   "source": [
    "Lets Scrape those images"
   ]
  },
  {
   "cell_type": "code",
   "execution_count": 22,
   "metadata": {},
   "outputs": [],
   "source": [
    "details = my_soup.find('div', attrs ={'class': 'list detail'})\n",
    "image_details = details.find_all('img')"
   ]
  },
  {
   "cell_type": "code",
   "execution_count": 35,
   "metadata": {},
   "outputs": [],
   "source": [
    "image_list = []\n",
    "for img in image_details:\n",
    "    if 'poster' in img['class']:\n",
    "        image_list.append(img['src'])    "
   ]
  },
  {
   "cell_type": "code",
   "execution_count": 36,
   "metadata": {},
   "outputs": [
    {
     "data": {
      "text/plain": [
       "['https://m.media-amazon.com/images/M/MV5BNmIxMzY4ZTgtYmMzOS00NTU5LWJjYzAtYjM5YmE3OTAwMTFlXkEyXkFqcGdeQXVyNTAzNzgwNTg@._V1_UY209_CR0,0,140,209_AL_.jpg',\n",
       " 'https://m.media-amazon.com/images/M/MV5BMzQxNzQzOTQwM15BMl5BanBnXkFtZTgwMDQ2NTcwODM@._V1_UY209_CR0,0,140,209_AL_.jpg',\n",
       " 'https://m.media-amazon.com/images/M/MV5BYTU2N2I4OWUtNmIxNy00YmM5LWJkYzItOWE4NTc5ODczNzUwXkEyXkFqcGdeQXVyODAzODU1NDQ@._V1_UY209_CR0,0,140,209_AL_.jpg']"
      ]
     },
     "execution_count": 36,
     "metadata": {},
     "output_type": "execute_result"
    }
   ],
   "source": [
    "image_list[0:3]"
   ]
  },
  {
   "cell_type": "markdown",
   "metadata": {},
   "source": [
    "Here's the list comprehension of the same code above\n",
    "\n",
    "<b>check_this_out = [img['src'] for img in image_details if 'poster' in img['class']]</b>"
   ]
  },
  {
   "cell_type": "markdown",
   "metadata": {},
   "source": [
    "The images from that link are compressed but we want the original image which can be obtained by removing everyting between 'V1' and '.jpg' from the url"
   ]
  },
  {
   "cell_type": "code",
   "execution_count": 37,
   "metadata": {},
   "outputs": [],
   "source": [
    "for index, img in enumerate(image_list):\n",
    "    slice_index = img.find('_V1_')\n",
    "    full_size_img = img[:slice_index] + '_V1_.jpg'\n",
    "    image_list[index] = full_size_img\n",
    "    "
   ]
  },
  {
   "cell_type": "markdown",
   "metadata": {},
   "source": [
    "Lets save all the posters in a folder"
   ]
  },
  {
   "cell_type": "code",
   "execution_count": 43,
   "metadata": {},
   "outputs": [
    {
     "name": "stdout",
     "output_type": "stream",
     "text": [
      "Created the directory: D:\\Ultimate Summer\\WebScrapping\\DataLit\\Posters\n"
     ]
    }
   ],
   "source": [
    "path = os.getcwd()\n",
    "path += \"\\Posters\"\n",
    "try:\n",
    "    os.mkdir(path)\n",
    "except OSError:\n",
    "    print(\"Unable to create %s\" % path)\n",
    "else:\n",
    "    print(\"Created the directory: %s\" %path)"
   ]
  },
  {
   "cell_type": "code",
   "execution_count": null,
   "metadata": {},
   "outputs": [],
   "source": [
    "for index, img_link in enumerate(image_list):\n",
    "    img_res = request_webpage(img_link)\n",
    "    file_name = path + \"\\\\POSTER_\"+str(index)+\".jpg\"\n",
    "    img_file = open(file_name, 'wb')\n",
    "    for chunk in img_res.iter_content(100000):\n",
    "        img_file.write(chunk)\n",
    "    img_file.close()\n",
    "        \n",
    "    "
   ]
  },
  {
   "cell_type": "markdown",
   "metadata": {},
   "source": [
    "Zipping all downloaded posters"
   ]
  },
  {
   "cell_type": "code",
   "execution_count": 57,
   "metadata": {},
   "outputs": [],
   "source": [
    "def get_all_files(folder):\n",
    "    file_path = []\n",
    "    for root, directories, files in os.walk(folder):\n",
    "        for filename in files:\n",
    "            filepath = os.path.join(root, filename)\n",
    "            file_path.append(filepath)\n",
    "    return file_path"
   ]
  },
  {
   "cell_type": "code",
   "execution_count": 62,
   "metadata": {},
   "outputs": [],
   "source": [
    "directory = './Posters'\n",
    "file_paths = get_all_files(directory)\n",
    "with ZipFile('./Posters/posters.zip', 'w') as z:\n",
    "    for file in file_paths:\n",
    "        z.write(file)"
   ]
  },
  {
   "cell_type": "markdown",
   "metadata": {},
   "source": [
    "<h1>_____________________________________________________</h1>"
   ]
  }
 ],
 "metadata": {
  "kernelspec": {
   "display_name": "Python 3",
   "language": "python",
   "name": "python3"
  },
  "language_info": {
   "codemirror_mode": {
    "name": "ipython",
    "version": 3
   },
   "file_extension": ".py",
   "mimetype": "text/x-python",
   "name": "python",
   "nbconvert_exporter": "python",
   "pygments_lexer": "ipython3",
   "version": "3.6.5"
  }
 },
 "nbformat": 4,
 "nbformat_minor": 2
}
