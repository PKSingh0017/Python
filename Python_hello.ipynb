{
 "cells": [
  {
   "cell_type": "markdown",
   "metadata": {},
   "source": [
    "# print(\"Hello Python!\")"
   ]
  },
  {
   "cell_type": "markdown",
   "metadata": {},
   "source": [
    "In this notebook we gonna learn about python and some cool stuffs you can do with this."
   ]
  },
  {
   "cell_type": "markdown",
   "metadata": {},
   "source": [
    "## Basics"
   ]
  },
  {
   "cell_type": "markdown",
   "metadata": {},
   "source": [
    "Defining the datatype, no problem python does that for you"
   ]
  },
  {
   "cell_type": "code",
   "execution_count": 51,
   "metadata": {},
   "outputs": [],
   "source": [
    "name = \"naruto\" # String\n",
    "roll = 123456 # int\n",
    "hokage = True # boolean\n",
    "chakra_nature = [\"wind\", \"fire\", \"earth\", \"lightning\", \"water\", \"yang\", \"yin\", \"lava\", \"boil\"] # list\n",
    "relations = {\"children\":[\"boruto\", \"himawari\"], \"wife\":\"hinata\", \"rival\":\"sasuke\",\n",
    "             \"teacher\":[\"Iruka\", \"kakashi\", \"jiraya\"]} # Dictionary"
   ]
  },
  {
   "cell_type": "markdown",
   "metadata": {},
   "source": [
    "Lets print some stuffs"
   ]
  },
  {
   "cell_type": "code",
   "execution_count": 11,
   "metadata": {},
   "outputs": [
    {
     "name": "stdout",
     "output_type": "stream",
     "text": [
      "Name and roll : naruto 123456\n",
      "Hokage:  True\n",
      "Chakra Nature:  ['wind', 'fire', 'earth', 'lightning', 'water', 'yang', 'yin', 'lava', 'boil']\n",
      "Children:  ['boruto', 'himawari']\n"
     ]
    }
   ],
   "source": [
    "print(\"Name and roll : %s %d\" % (name, roll))\n",
    "print(\"Hokage: \", hokage)\n",
    "print(\"Chakra Nature: \", chakra_nature)\n",
    "print(\"Children: \", relations[\"children\"])"
   ]
  },
  {
   "cell_type": "markdown",
   "metadata": {},
   "source": [
    "You can know the data type just by using the type method"
   ]
  },
  {
   "cell_type": "code",
   "execution_count": 53,
   "metadata": {},
   "outputs": [
    {
     "name": "stdout",
     "output_type": "stream",
     "text": [
      "<class 'str'> <class 'int'> <class 'bool'> <class 'list'> <class 'dict'>\n"
     ]
    }
   ],
   "source": [
    "print(type(name), type(roll), type(hokage), type(chakra_nature), type(relations))"
   ]
  },
  {
   "cell_type": "markdown",
   "metadata": {},
   "source": [
    "### Arithmetic"
   ]
  },
  {
   "cell_type": "code",
   "execution_count": 15,
   "metadata": {},
   "outputs": [
    {
     "name": "stdout",
     "output_type": "stream",
     "text": [
      "7.5\n",
      "7\n",
      "1\n"
     ]
    }
   ],
   "source": [
    "x = (1 + 2) * 5 / 2\n",
    "print(x)\n",
    "x = (1 + 2) * 5 // 2 #double slash is for integer division \n",
    "print(x)\n",
    "print(x%2) # modulo"
   ]
  },
  {
   "cell_type": "markdown",
   "metadata": {},
   "source": [
    "### Functions"
   ]
  },
  {
   "cell_type": "code",
   "execution_count": 16,
   "metadata": {},
   "outputs": [],
   "source": [
    "def my_function(x): # Here x is the parameters\n",
    "    # Write your stuff\n",
    "    return x * 2 # we wanna return the square of the input here"
   ]
  },
  {
   "cell_type": "code",
   "execution_count": 26,
   "metadata": {},
   "outputs": [
    {
     "name": "stdout",
     "output_type": "stream",
     "text": [
      "OUPTUT 1: 14\n",
      "OUTPUT 2: hellohello\n"
     ]
    }
   ],
   "source": [
    "# Calling the function\n",
    "output = my_function(7)\n",
    "print(\"OUPTUT 1:\",output)\n",
    "# What if we give a string as an input?\n",
    "output = my_function(\"hello\")\n",
    "print(\"OUTPUT 2:\", output)"
   ]
  },
  {
   "cell_type": "markdown",
   "metadata": {},
   "source": [
    "Functions in python are <i>first-class</i>, means we can assign them to variables and pass them like any other argument"
   ]
  },
  {
   "cell_type": "code",
   "execution_count": 35,
   "metadata": {},
   "outputs": [],
   "source": [
    "def function_one(x):\n",
    "    x += 2\n",
    "    return x\n",
    "\n",
    "def function_two(function_one):\n",
    "    return function_one(7)"
   ]
  },
  {
   "cell_type": "code",
   "execution_count": 37,
   "metadata": {},
   "outputs": [
    {
     "name": "stdout",
     "output_type": "stream",
     "text": [
      "OUTPUT : 9\n"
     ]
    }
   ],
   "source": [
    "output = function_two(function_one)\n",
    "print(\"OUTPUT :\", output)"
   ]
  },
  {
   "cell_type": "markdown",
   "metadata": {},
   "source": [
    "Short Anonymous functions or <b>lambdas</b>"
   ]
  },
  {
   "cell_type": "code",
   "execution_count": 42,
   "metadata": {},
   "outputs": [],
   "source": [
    "# here we've stored the function in a variable and the name of the variable is not the name of the function..\n",
    "# its anonymous yknow\n",
    "anonymous_function = lambda x: x ** 2 # btw here ** is a mathematical operator meaning to the power of"
   ]
  },
  {
   "cell_type": "code",
   "execution_count": 43,
   "metadata": {},
   "outputs": [
    {
     "data": {
      "text/plain": [
       "25"
      ]
     },
     "execution_count": 43,
     "metadata": {},
     "output_type": "execute_result"
    }
   ],
   "source": [
    "anonymous_function(5)"
   ]
  },
  {
   "cell_type": "markdown",
   "metadata": {},
   "source": [
    "Default parameters"
   ]
  },
  {
   "cell_type": "code",
   "execution_count": 46,
   "metadata": {},
   "outputs": [
    {
     "name": "stdout",
     "output_type": "stream",
     "text": [
      "YOSH!!\n",
      "Hello there\n"
     ]
    }
   ],
   "source": [
    "# if nothing is given in the parameter then the default value will be used\n",
    "def print_stuff(stuff = \"YOSH!!\"): \n",
    "    print(stuff)\n",
    "    \n",
    "print_stuff()\n",
    "print_stuff(\"Hello there\")"
   ]
  },
  {
   "cell_type": "markdown",
   "metadata": {},
   "source": [
    "### Lists"
   ]
  },
  {
   "cell_type": "markdown",
   "metadata": {},
   "source": [
    "Its one of the most fundamental data structure in Python. A list is an ordered collection of data. (Its similar to array in other languages but with MORE POWERS)"
   ]
  },
  {
   "cell_type": "code",
   "execution_count": 57,
   "metadata": {},
   "outputs": [
    {
     "name": "stdout",
     "output_type": "stream",
     "text": [
      "Homogeneous:  [1, 2, 3, 4, 5] \n",
      "Heterogeneous: ['naruto', 12346, True] \n",
      "List of lists: [[1, 2, 3, 4, 5], ['naruto', 12346, True], []]\n"
     ]
    }
   ],
   "source": [
    "homogeneous_list = [1,2,3,4,5]\n",
    "heterogeneous_list = [\"naruto\", 12346, True]\n",
    "list_of_lists = [homogeneous_list, heterogeneous_list, []]\n",
    "\n",
    "# .format will fill up {} accordingly\n",
    "print(\"Homogeneous:  {} \\nHeterogeneous: {} \\nList of lists: {}\".format(homogeneous_list, \n",
    "                                                                        heterogeneous_list, list_of_lists))"
   ]
  },
  {
   "cell_type": "code",
   "execution_count": 67,
   "metadata": {},
   "outputs": [
    {
     "name": "stdout",
     "output_type": "stream",
     "text": [
      "9\n",
      "First element:  1\n",
      "Last element:  9\n",
      "First to 5th element:  [1, 2, 3, 4, 5]\n",
      "Last 5 elements:  [5, 6, 7, 8, 9]\n",
      "All elements starting from 5th and not including the last 2:  [6, 7]\n",
      "new list:  [6, 7]\n"
     ]
    }
   ],
   "source": [
    "l = [1,2,3,4,5,6,7,8,9]\n",
    "print(len(l)) # Length of list\n",
    "print(\"First element: \", l[0])\n",
    "print(\"Last element: \", l[-1])\n",
    "print(\"First to 5th element: \", l[:5])\n",
    "print(\"Last 5 elements: \", l[-5:])\n",
    "print(\"All elements starting from 5th and not including the last 2: \", l[5:-2])\n",
    "# Say we want the above in another variable\n",
    "new_l = l[5:-2]\n",
    "print(\"new list: \",new_l)"
   ]
  },
  {
   "cell_type": "markdown",
   "metadata": {},
   "source": [
    "Check if an element is there in a list or not"
   ]
  },
  {
   "cell_type": "code",
   "execution_count": 75,
   "metadata": {},
   "outputs": [
    {
     "name": "stdout",
     "output_type": "stream",
     "text": [
      "False \n",
      "True\n"
     ]
    }
   ],
   "source": [
    "a = \"naruto\" in [\"sasuke\", \"obito\", \"hinata\", \"shisui\"]\n",
    "b = \"shisui\" in [\"sasuke\", \"obito\", \"hinata\", \"shisui\"]\n",
    "print(\"{} \\n{}\".format(a,b))"
   ]
  },
  {
   "cell_type": "markdown",
   "metadata": {},
   "source": [
    "Add one element at a time to a list"
   ]
  },
  {
   "cell_type": "code",
   "execution_count": 80,
   "metadata": {},
   "outputs": [
    {
     "name": "stdout",
     "output_type": "stream",
     "text": [
      "[1, 2, 3, 4]\n"
     ]
    }
   ],
   "source": [
    "x = [1,2,3]\n",
    "x.append(4)\n",
    "print(x)"
   ]
  },
  {
   "cell_type": "markdown",
   "metadata": {},
   "source": [
    "Concatenate lists "
   ]
  },
  {
   "cell_type": "code",
   "execution_count": 81,
   "metadata": {},
   "outputs": [
    {
     "name": "stdout",
     "output_type": "stream",
     "text": [
      "[1, 2, 3, 4, 5, 6, 7]\n"
     ]
    }
   ],
   "source": [
    "x.extend([5,6,7])\n",
    "print(x)"
   ]
  },
  {
   "cell_type": "markdown",
   "metadata": {},
   "source": [
    "Or we can just add'em"
   ]
  },
  {
   "cell_type": "code",
   "execution_count": 82,
   "metadata": {},
   "outputs": [
    {
     "name": "stdout",
     "output_type": "stream",
     "text": [
      "[1, 2, 3, 4, 5, 6, 7, 8, 9]\n"
     ]
    }
   ],
   "source": [
    "x += [8,9]\n",
    "print(x)"
   ]
  }
 ],
 "metadata": {
  "kernelspec": {
   "display_name": "Python 3",
   "language": "python",
   "name": "python3"
  },
  "language_info": {
   "codemirror_mode": {
    "name": "ipython",
    "version": 3
   },
   "file_extension": ".py",
   "mimetype": "text/x-python",
   "name": "python",
   "nbconvert_exporter": "python",
   "pygments_lexer": "ipython3",
   "version": "3.6.5"
  }
 },
 "nbformat": 4,
 "nbformat_minor": 2
}
