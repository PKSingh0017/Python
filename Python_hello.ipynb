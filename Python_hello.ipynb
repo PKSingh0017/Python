{
 "cells": [
  {
   "cell_type": "markdown",
   "metadata": {},
   "source": [
    "# print(\"Hello Python!\")"
   ]
  },
  {
   "cell_type": "markdown",
   "metadata": {},
   "source": [
    "In this notebook we gonna learn about python and some cool stuffs you can do with this."
   ]
  },
  {
   "cell_type": "markdown",
   "metadata": {},
   "source": [
    "## Basics"
   ]
  },
  {
   "cell_type": "markdown",
   "metadata": {},
   "source": [
    "Defining the datatype, no problem python does that for you"
   ]
  },
  {
   "cell_type": "code",
   "execution_count": 1,
   "metadata": {},
   "outputs": [],
   "source": [
    "name = \"naruto\" # String\n",
    "roll = 123456 # its float by default\n",
    "hokage = True # boolean\n",
    "chakra_nature = [\"wind\", \"fire\", \"earth\", \"lightning\", \"water\", \"yang\", \"yin\", \"lava\", \"boil\"] # list\n",
    "relations = {\"children\":[\"boruto\", \"himawari\"], \"wife\":\"hinata\", \"rival\":\"sasuke\",\n",
    "             \"teacher\":[\"Iruka\", \"kakashi\", \"jiraya\"]} # Dictionary"
   ]
  },
  {
   "cell_type": "markdown",
   "metadata": {},
   "source": [
    "Lets print some stuffs"
   ]
  },
  {
   "cell_type": "code",
   "execution_count": 11,
   "metadata": {},
   "outputs": [
    {
     "name": "stdout",
     "output_type": "stream",
     "text": [
      "Name and roll : naruto 123456\n",
      "Hokage:  True\n",
      "Chakra Nature:  ['wind', 'fire', 'earth', 'lightning', 'water', 'yang', 'yin', 'lava', 'boil']\n",
      "Children:  ['boruto', 'himawari']\n"
     ]
    }
   ],
   "source": [
    "print(\"Name and roll : %s %d\" % (name, roll))\n",
    "print(\"Hokage: \", hokage)\n",
    "print(\"Chakra Nature: \", chakra_nature)\n",
    "print(\"Children: \", relations[\"children\"])"
   ]
  },
  {
   "cell_type": "markdown",
   "metadata": {},
   "source": [
    "### Arithmetic"
   ]
  },
  {
   "cell_type": "code",
   "execution_count": 15,
   "metadata": {},
   "outputs": [
    {
     "name": "stdout",
     "output_type": "stream",
     "text": [
      "7.5\n",
      "7\n",
      "1\n"
     ]
    }
   ],
   "source": [
    "x = (1 + 2) * 5 / 2\n",
    "print(x)\n",
    "x = (1 + 2) * 5 // 2 #double slash is for integer division \n",
    "print(x)\n",
    "print(x%2) # modulo"
   ]
  },
  {
   "cell_type": "markdown",
   "metadata": {},
   "source": [
    "### Functions"
   ]
  },
  {
   "cell_type": "code",
   "execution_count": 16,
   "metadata": {},
   "outputs": [],
   "source": [
    "def my_function(x): # Here x is the parameters\n",
    "    # Write your stuff\n",
    "    return x * 2 # we wanna return the square of the input here"
   ]
  },
  {
   "cell_type": "code",
   "execution_count": 26,
   "metadata": {},
   "outputs": [
    {
     "name": "stdout",
     "output_type": "stream",
     "text": [
      "OUPTUT 1: 14\n",
      "OUTPUT 2: hellohello\n"
     ]
    }
   ],
   "source": [
    "# Calling the function\n",
    "output = my_function(7)\n",
    "print(\"OUPTUT 1:\",output)\n",
    "# What if we give a string as an input?\n",
    "output = my_function(\"hello\")\n",
    "print(\"OUTPUT 2:\", output)"
   ]
  },
  {
   "cell_type": "markdown",
   "metadata": {},
   "source": [
    "Functions in python are <i>first-class</i>, means we can assign them to variables and pass them like any other argument"
   ]
  },
  {
   "cell_type": "code",
   "execution_count": 35,
   "metadata": {},
   "outputs": [],
   "source": [
    "def function_one(x):\n",
    "    x += 2\n",
    "    return x\n",
    "\n",
    "def function_two(function_one):\n",
    "    return function_one(7)"
   ]
  },
  {
   "cell_type": "code",
   "execution_count": 37,
   "metadata": {},
   "outputs": [
    {
     "name": "stdout",
     "output_type": "stream",
     "text": [
      "OUTPUT : 9\n"
     ]
    }
   ],
   "source": [
    "output = function_two(function_one)\n",
    "print(\"OUTPUT :\", output)"
   ]
  },
  {
   "cell_type": "code",
   "execution_count": null,
   "metadata": {},
   "outputs": [],
   "source": []
  },
  {
   "cell_type": "code",
   "execution_count": null,
   "metadata": {},
   "outputs": [],
   "source": []
  },
  {
   "cell_type": "code",
   "execution_count": null,
   "metadata": {},
   "outputs": [],
   "source": []
  }
 ],
 "metadata": {
  "kernelspec": {
   "display_name": "Python 3",
   "language": "python",
   "name": "python3"
  },
  "language_info": {
   "codemirror_mode": {
    "name": "ipython",
    "version": 3
   },
   "file_extension": ".py",
   "mimetype": "text/x-python",
   "name": "python",
   "nbconvert_exporter": "python",
   "pygments_lexer": "ipython3",
   "version": "3.6.5"
  }
 },
 "nbformat": 4,
 "nbformat_minor": 2
}
