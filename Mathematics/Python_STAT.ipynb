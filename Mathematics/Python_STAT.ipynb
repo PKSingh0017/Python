{
 "cells": [
  {
   "cell_type": "markdown",
   "metadata": {},
   "source": [
    "# Statistics"
   ]
  },
  {
   "cell_type": "markdown",
   "metadata": {},
   "source": [
    "It is the practice or science of collecting and analysing numerical data in large quantities, especially for the purpose of inferring proportions in a whole from those in a representative sample or we can say that it refers to the mathematics and techniques with which we understand the data."
   ]
  },
  {
   "cell_type": "markdown",
   "metadata": {},
   "source": [
    "## Describing the data"
   ]
  },
  {
   "cell_type": "markdown",
   "metadata": {},
   "source": [
    "Say I have a list which contains the how many friends does each person have, <code>total_friends = [85,65,20,45,16,64,88,61]</code>. This is a small list but if we have a list of millions then it will be very difficult to analyse it. So lets visualize this small one."
   ]
  },
  {
   "cell_type": "code",
   "execution_count": 24,
   "metadata": {},
   "outputs": [],
   "source": [
    "# Creating a fake data\n",
    "import random\n",
    "\n",
    "num_friends = [random.randrange(1,51,1) for _ in range(100)]"
   ]
  },
  {
   "cell_type": "code",
   "execution_count": 27,
   "metadata": {},
   "outputs": [
    {
     "data": {
      "image/png": "[encoded data removed]",
      "text/plain": [
       "<Figure size 432x288 with 1 Axes>"
      ]
     },
     "metadata": {
      "needs_background": "light"
     },
     "output_type": "display_data"
    }
   ],
   "source": [
    "# Plotting the data\n",
    "import matplotlib.pyplot as plt\n",
    "from collections import Counter\n",
    "\n",
    "count = Counter(num_friends)\n",
    "xs = range(100)\n",
    "ys = [count[x] for x in xs]\n",
    "plt.bar(xs, ys)\n",
    "plt.axis([0,51,0,8])\n",
    "plt.title(\"Histogram of Friend Counts\")\n",
    "plt.xlabel(\"Number of friends\")\n",
    "plt.ylabel(\"Number of people\")\n",
    "plt.show()\n"
   ]
  },
  {
   "cell_type": "markdown",
   "metadata": {},
   "source": [
    "It is still quite not that good for understanding whats going on in this graph. So now we apply some magic of statistics."
   ]
  },
  {
   "cell_type": "code",
   "execution_count": 34,
   "metadata": {},
   "outputs": [
    {
     "name": "stdout",
     "output_type": "stream",
     "text": [
      "Total Number of People: 100\n",
      "Max number of friends of a person: 50\n",
      "Min number of friends of a person: 1\n"
     ]
    }
   ],
   "source": [
    "# Lets count the total number of people\n",
    "num_people = len(num_friends)\n",
    "print(f\"Total Number of People: {num_people}\")\n",
    "\n",
    "# whats the max number of friends does a person have\n",
    "print(f\"Max number of friends of a person: {max(num_friends)}\")\n",
    "# whats the min number of friends does a person have\n",
    "print(f\"Min number of friends of a person: {min(num_friends)}\")"
   ]
  },
  {
   "cell_type": "markdown",
   "metadata": {},
   "source": [
    "## Central Tendencies"
   ]
  },
  {
   "cell_type": "markdown",
   "metadata": {},
   "source": [
    "A central tendency is a central or typical value for a probability distribution. It may be called a center or location of the distribution.The most common measures of central tendency are the artimetic mean, median and mode."
   ]
  },
  {
   "cell_type": "code",
   "execution_count": 43,
   "metadata": {},
   "outputs": [
    {
     "name": "stdout",
     "output_type": "stream",
     "text": [
      "Mean: 26.46\n",
      "Median: 25.0\n"
     ]
    }
   ],
   "source": [
    "# lets find the mean \n",
    "def mean(data):\n",
    "    return (sum(data) / len(data))\n",
    "\n",
    "print(f\"Mean: {mean(num_friends)}\")\n",
    "\n",
    "# lets find the median\n",
    "def median(data):\n",
    "    sorted_data = sorted(data)\n",
    "    mid_index = len(data) // 2\n",
    "    \n",
    "    if len(data) % 2 == 1: # if the len is odd then return the mid value\n",
    "        return sorted_data[mid_index]\n",
    "    else:                  # if it is even then return the average of mid_index and mid_index - 1\n",
    "        low = mid_index - 1\n",
    "        high = mid_index\n",
    "        return (sorted_data[low] + sorted_data[high]) / 2\n",
    "    \n",
    "print(f\"Median: {median(num_friends)}\")"
   ]
  },
  {
   "cell_type": "markdown",
   "metadata": {},
   "source": [
    "A generalization of median is called <i>quantile</i>, which returns the values less than which a certain percentile of the data lies. Then we can say that median represent the value less than which 50% of the data lies."
   ]
  },
  {
   "cell_type": "code",
   "execution_count": 54,
   "metadata": {},
   "outputs": [
    {
     "name": "stdout",
     "output_type": "stream",
     "text": [
      "Quantile 0.2:  11\n",
      "Quantile 0.5: 25 and Median : 25.0\n"
     ]
    }
   ],
   "source": [
    "def quantile(data, percentile):\n",
    "    percentile_index = int(percentile * len(data))\n",
    "    sorted_data = sorted(data)\n",
    "    return sorted_data[percentile_index]\n",
    "\n",
    "print(f\"Quantile 0.2:  {quantile(num_friends, 0.2)}\")\n",
    "print(f\"Quantile 0.5: {quantile(num_friends, 0.5)} and Median : {median(num_friends)}\")\n"
   ]
  },
  {
   "cell_type": "markdown",
   "metadata": {},
   "source": [
    "<i>Mode</i> gives use the most common values in a data"
   ]
  },
  {
   "cell_type": "code",
   "execution_count": 67,
   "metadata": {},
   "outputs": [
    {
     "name": "stdout",
     "output_type": "stream",
     "text": [
      "Mode: [20]\n"
     ]
    }
   ],
   "source": [
    "def mode(data):\n",
    "    counts = Counter(data)\n",
    "    max_count = max(counts.values())\n",
    "    return [value for value, count in counts.items() if count == max_count]\n",
    "\n",
    "print(f\"Mode: {mode(num_friends)}\")"
   ]
  },
  {
   "cell_type": "markdown",
   "metadata": {},
   "source": [
    "## Dispersion"
   ]
  },
  {
   "cell_type": "markdown",
   "metadata": {},
   "source": [
    "It refers to the measure of how spread the data is. If it is near zero then the data is not spread out and if its large then our data is very spread out. We can simply calculate it by getting the difference between the max value and min value."
   ]
  },
  {
   "cell_type": "code",
   "execution_count": 71,
   "metadata": {},
   "outputs": [
    {
     "name": "stdout",
     "output_type": "stream",
     "text": [
      "data range: 49\n"
     ]
    }
   ],
   "source": [
    "def dispersion(data):\n",
    "    return max(data) - min(data)\n",
    "\n",
    "print(f\"data range: {dispersion(num_friends)}\")"
   ]
  },
  {
   "cell_type": "markdown",
   "metadata": {},
   "source": [
    "But we may have a problem here, say we have a data of range 1 to 50 and theres a lot of 25s. If we go through dispersion the we'll say that the data is spread out while it is not. So here we introduce <i>variance</i> which is a more complex measure of dispersion."
   ]
  },
  {
   "cell_type": "code",
   "execution_count": 77,
   "metadata": {},
   "outputs": [
    {
     "name": "stdout",
     "output_type": "stream",
     "text": [
      "Variance: 227.44282828282826\n"
     ]
    }
   ],
   "source": [
    "# deviation is the measure of how far the data is from the mean\n",
    "def deviation(data):\n",
    "    m = mean(data)\n",
    "    return [x - m for x in data]\n",
    "\n",
    "def sum_squares(x):\n",
    "    x = [val**2 for val in x]\n",
    "    return sum(x)\n",
    "        \n",
    "# variance\n",
    "def variance(data):\n",
    "    length = len(data)\n",
    "    dev = deviation(data)\n",
    "    return sum_squares(dev) / (length-1)\n",
    "    \n",
    "print(f\"Variance: {variance(num_friends)}\")"
   ]
  },
  {
   "cell_type": "markdown",
   "metadata": {},
   "source": [
    "Now the value that we got there is the ${S^2}$, means the unit that we have in data is squared. So to get back to the original unit we use <i>standard diviation<i/> i.e ${S}$"
   ]
  },
  {
   "cell_type": "code",
   "execution_count": 81,
   "metadata": {},
   "outputs": [
    {
     "name": "stdout",
     "output_type": "stream",
     "text": [
      "Standard deviation: 15.081207785944343 \n"
     ]
    }
   ],
   "source": [
    "import math\n",
    "\n",
    "def standard_deviation(data):\n",
    "    return math.sqrt(variance(data))\n",
    "\n",
    "print(f\"Standard deviation: {standard_deviation(num_friends)} \")"
   ]
  }
 ],
 "metadata": {
  "kernelspec": {
   "display_name": "Python 3",
   "language": "python",
   "name": "python3"
  },
  "language_info": {
   "codemirror_mode": {
    "name": "ipython",
    "version": 3
   },
   "file_extension": ".py",
   "mimetype": "text/x-python",
   "name": "python",
   "nbconvert_exporter": "python",
   "pygments_lexer": "ipython3",
   "version": "3.6.5"
  }
 },
 "nbformat": 4,
 "nbformat_minor": 2
}
