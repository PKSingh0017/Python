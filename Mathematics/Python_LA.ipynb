{
 "cells": [
  {
   "cell_type": "markdown",
   "metadata": {},
   "source": [
    "# Linear Algebra"
   ]
  },
  {
   "cell_type": "markdown",
   "metadata": {},
   "source": [
    "It is the branch of mathematics that deals with <b>Vector Spaces</b>. Vectors are sequence containers representing arrays that can change in size. They can be added together or multiplied by a scalar to form new vectors. These are very useful to represent numeric data.<br>\n",
    "For example: <br>\n",
    "If we have marks of a student of 5 exams: (exam1, exam2, exam3, exam4, exam5). Now the grades obtained from these exams can be shown by a vector like:<br>\n",
    "\n",
    "<code>\n",
    "    grades = [8.5, #exam1 \n",
    "              9.8, #exam2 \n",
    "              7.3, #exam3\n",
    "              8.2, #exam4\n",
    "              9.5] #exam5\n",
    "</code>"
   ]
  },
  {
   "cell_type": "markdown",
   "metadata": {},
   "source": [
    "## Operations on vectors"
   ]
  },
  {
   "cell_type": "markdown",
   "metadata": {},
   "source": [
    "### Addition"
   ]
  },
  {
   "cell_type": "code",
   "execution_count": 2,
   "metadata": {},
   "outputs": [
    {
     "name": "stdout",
     "output_type": "stream",
     "text": [
      "Vector Addition of [1, 2, 3] and [5, 8, 9] = [6, 10, 12]\n"
     ]
    }
   ],
   "source": [
    "def vector_add(a,b):\n",
    "    return [a_i + b_i for a_i, b_i in zip(a,b)]\n",
    "\n",
    "x = [1,2,3]\n",
    "y = [5,8,9]\n",
    "\n",
    "print(f\"Vector Addition of {x} and {y} = {vector_add(x,y)}\")"
   ]
  },
  {
   "cell_type": "markdown",
   "metadata": {},
   "source": [
    "### Subtraction"
   ]
  },
  {
   "cell_type": "code",
   "execution_count": 7,
   "metadata": {},
   "outputs": [
    {
     "name": "stdout",
     "output_type": "stream",
     "text": [
      "Vector Subtraction [4, 3, 2] from [9, 8, 7] = [5, 5, 5]\n"
     ]
    }
   ],
   "source": [
    "def vector_subtract(a,b):\n",
    "    return [a_i - b_i for a_i, b_i in zip(a,b)]\n",
    "\n",
    "x = [9,8,7]\n",
    "y = [4,3,2]\n",
    "\n",
    "print(f\"Vector Subtraction {y} from {x} = {vector_subtract(x, y)}\")"
   ]
  },
  {
   "cell_type": "markdown",
   "metadata": {},
   "source": [
    "### Scalar Multiplication"
   ]
  },
  {
   "cell_type": "code",
   "execution_count": 10,
   "metadata": {},
   "outputs": [
    {
     "name": "stdout",
     "output_type": "stream",
     "text": [
      "Scalar Multiplication: [40, 60, 70]\n"
     ]
    }
   ],
   "source": [
    "def scalar_multiply(a, c):\n",
    "    return [c * a_i for a_i in a]\n",
    "\n",
    "x = [4,6,7]\n",
    "c = 10\n",
    "print(f\"Scalar Multiplication: {scalar_multiply(x, c)}\")"
   ]
  },
  {
   "cell_type": "markdown",
   "metadata": {},
   "source": [
    "### Dot Product"
   ]
  },
  {
   "cell_type": "code",
   "execution_count": 11,
   "metadata": {},
   "outputs": [
    {
     "name": "stdout",
     "output_type": "stream",
     "text": [
      "dot product between [2, 3, 4] and [5, 6, 7] : 56\n"
     ]
    }
   ],
   "source": [
    "def dot_product(a,b):\n",
    "    return sum(a_i * b_i for a_i, b_i in zip(a,b))\n",
    "\n",
    "x = [2,3,4]\n",
    "y = [5,6,7]\n",
    "print(f\"dot product between {x} and {y} : {dot_product(x,y)}\")"
   ]
  }
 ],
 "metadata": {
  "kernelspec": {
   "display_name": "Python 3",
   "language": "python",
   "name": "python3"
  },
  "language_info": {
   "codemirror_mode": {
    "name": "ipython",
    "version": 3
   },
   "file_extension": ".py",
   "mimetype": "text/x-python",
   "name": "python",
   "nbconvert_exporter": "python",
   "pygments_lexer": "ipython3",
   "version": "3.6.5"
  }
 },
 "nbformat": 4,
 "nbformat_minor": 2
}
